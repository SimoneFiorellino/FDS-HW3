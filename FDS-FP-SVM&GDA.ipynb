{
 "cells": [
  {
   "cell_type": "markdown",
   "metadata": {},
   "source": [
    "## 1. Data pre-processing"
   ]
  },
  {
   "cell_type": "code",
   "execution_count": 1,
   "metadata": {},
   "outputs": [],
   "source": [
    "import matplotlib.pyplot as plt\n",
    "import pandas as pd\n",
    "import numpy as np"
   ]
  },
  {
   "cell_type": "markdown",
   "metadata": {},
   "source": [
    "### 1.1 Train/Dev/Test split"
   ]
  },
  {
   "cell_type": "code",
   "execution_count": 2,
   "metadata": {},
   "outputs": [],
   "source": [
    "from sklearn.model_selection import train_test_split"
   ]
  },
  {
   "cell_type": "markdown",
   "metadata": {},
   "source": [
    "The dataset has been already splitted into train and test sets, with a ratio of about 70/30%. \n",
    "\n",
    "For our classification task, in order to fine tune the hyperparameters of the model and select the best features from the data, we further split those sets. So, we end up with train, evaluation and test sets of about 60/20/20% of the overall data, respectively."
   ]
  },
  {
   "cell_type": "code",
   "execution_count": 3,
   "metadata": {},
   "outputs": [],
   "source": [
    "dataset = pd.read_csv('./data/dataset.csv')"
   ]
  },
  {
   "cell_type": "code",
   "execution_count": 4,
   "metadata": {},
   "outputs": [],
   "source": [
    "# take 2/5 of the train set for cross validation and test\n",
    "train_set, dev_test_set = train_test_split(dataset, test_size=0.4, random_state=12)\n",
    "\n",
    "# take 1/2 of the test set for cross validation\n",
    "test_set, dev_set = train_test_split(dev_test_set, test_size=0.5, random_state=12)"
   ]
  },
  {
   "cell_type": "code",
   "execution_count": 5,
   "metadata": {
    "scrolled": true
   },
   "outputs": [
    {
     "data": {
      "text/html": [
       "<div>\n",
       "<style scoped>\n",
       "    .dataframe tbody tr th:only-of-type {\n",
       "        vertical-align: middle;\n",
       "    }\n",
       "\n",
       "    .dataframe tbody tr th {\n",
       "        vertical-align: top;\n",
       "    }\n",
       "\n",
       "    .dataframe thead th {\n",
       "        text-align: right;\n",
       "    }\n",
       "</style>\n",
       "<table border=\"1\" class=\"dataframe\">\n",
       "  <thead>\n",
       "    <tr style=\"text-align: right;\">\n",
       "      <th></th>\n",
       "      <th>tBodyAcc-mean()-X</th>\n",
       "      <th>tBodyAcc-mean()-Y</th>\n",
       "      <th>tBodyAcc-mean()-Z</th>\n",
       "      <th>tBodyAcc-std()-X</th>\n",
       "      <th>tBodyAcc-std()-Y</th>\n",
       "      <th>tBodyAcc-std()-Z</th>\n",
       "      <th>tBodyAcc-mad()-X</th>\n",
       "      <th>tBodyAcc-mad()-Y</th>\n",
       "      <th>tBodyAcc-mad()-Z</th>\n",
       "      <th>tBodyAcc-max()-X</th>\n",
       "      <th>...</th>\n",
       "      <th>fBodyBodyGyroJerkMag-kurtosis()</th>\n",
       "      <th>angle(tBodyAccMean,gravity)</th>\n",
       "      <th>angle(tBodyAccJerkMean),gravityMean)</th>\n",
       "      <th>angle(tBodyGyroMean,gravityMean)</th>\n",
       "      <th>angle(tBodyGyroJerkMean,gravityMean)</th>\n",
       "      <th>angle(X,gravityMean)</th>\n",
       "      <th>angle(Y,gravityMean)</th>\n",
       "      <th>angle(Z,gravityMean)</th>\n",
       "      <th>subject</th>\n",
       "      <th>Activity</th>\n",
       "    </tr>\n",
       "  </thead>\n",
       "  <tbody>\n",
       "    <tr>\n",
       "      <th>6505</th>\n",
       "      <td>0.278909</td>\n",
       "      <td>-0.016122</td>\n",
       "      <td>-0.108804</td>\n",
       "      <td>-0.991421</td>\n",
       "      <td>-0.958884</td>\n",
       "      <td>-0.943642</td>\n",
       "      <td>-0.992854</td>\n",
       "      <td>-0.959690</td>\n",
       "      <td>-0.944281</td>\n",
       "      <td>-0.926421</td>\n",
       "      <td>...</td>\n",
       "      <td>-0.604272</td>\n",
       "      <td>-0.135149</td>\n",
       "      <td>-0.006428</td>\n",
       "      <td>-0.840651</td>\n",
       "      <td>0.548457</td>\n",
       "      <td>-0.690776</td>\n",
       "      <td>0.291574</td>\n",
       "      <td>0.110070</td>\n",
       "      <td>28</td>\n",
       "      <td>SITTING</td>\n",
       "    </tr>\n",
       "    <tr>\n",
       "      <th>4384</th>\n",
       "      <td>0.278544</td>\n",
       "      <td>-0.017497</td>\n",
       "      <td>-0.111402</td>\n",
       "      <td>-0.997560</td>\n",
       "      <td>-0.980832</td>\n",
       "      <td>-0.987017</td>\n",
       "      <td>-0.997578</td>\n",
       "      <td>-0.979116</td>\n",
       "      <td>-0.988149</td>\n",
       "      <td>-0.942968</td>\n",
       "      <td>...</td>\n",
       "      <td>-0.919445</td>\n",
       "      <td>-0.089110</td>\n",
       "      <td>-0.044198</td>\n",
       "      <td>-0.607149</td>\n",
       "      <td>0.601884</td>\n",
       "      <td>-0.817034</td>\n",
       "      <td>0.214795</td>\n",
       "      <td>-0.032885</td>\n",
       "      <td>22</td>\n",
       "      <td>STANDING</td>\n",
       "    </tr>\n",
       "    <tr>\n",
       "      <th>7480</th>\n",
       "      <td>0.243931</td>\n",
       "      <td>-0.004004</td>\n",
       "      <td>-0.122676</td>\n",
       "      <td>-0.092084</td>\n",
       "      <td>0.010789</td>\n",
       "      <td>0.199388</td>\n",
       "      <td>-0.193510</td>\n",
       "      <td>-0.041149</td>\n",
       "      <td>0.186226</td>\n",
       "      <td>0.315973</td>\n",
       "      <td>...</td>\n",
       "      <td>-0.639589</td>\n",
       "      <td>0.368217</td>\n",
       "      <td>0.310372</td>\n",
       "      <td>0.969768</td>\n",
       "      <td>-0.504041</td>\n",
       "      <td>-0.496266</td>\n",
       "      <td>0.268661</td>\n",
       "      <td>0.327231</td>\n",
       "      <td>2</td>\n",
       "      <td>WALKING_DOWNSTAIRS</td>\n",
       "    </tr>\n",
       "    <tr>\n",
       "      <th>5960</th>\n",
       "      <td>0.278354</td>\n",
       "      <td>-0.016345</td>\n",
       "      <td>-0.111278</td>\n",
       "      <td>-0.985230</td>\n",
       "      <td>-0.988805</td>\n",
       "      <td>-0.990760</td>\n",
       "      <td>-0.985383</td>\n",
       "      <td>-0.987864</td>\n",
       "      <td>-0.990653</td>\n",
       "      <td>-0.930099</td>\n",
       "      <td>...</td>\n",
       "      <td>-0.950759</td>\n",
       "      <td>0.332895</td>\n",
       "      <td>0.404353</td>\n",
       "      <td>0.222148</td>\n",
       "      <td>0.056738</td>\n",
       "      <td>0.604472</td>\n",
       "      <td>-0.363929</td>\n",
       "      <td>-0.648498</td>\n",
       "      <td>27</td>\n",
       "      <td>LAYING</td>\n",
       "    </tr>\n",
       "    <tr>\n",
       "      <th>10196</th>\n",
       "      <td>0.291115</td>\n",
       "      <td>-0.014618</td>\n",
       "      <td>-0.112456</td>\n",
       "      <td>-0.968179</td>\n",
       "      <td>-0.982618</td>\n",
       "      <td>-0.983055</td>\n",
       "      <td>-0.967095</td>\n",
       "      <td>-0.982565</td>\n",
       "      <td>-0.980663</td>\n",
       "      <td>-0.916381</td>\n",
       "      <td>...</td>\n",
       "      <td>-0.940910</td>\n",
       "      <td>-0.090369</td>\n",
       "      <td>0.008545</td>\n",
       "      <td>0.387679</td>\n",
       "      <td>-0.204587</td>\n",
       "      <td>0.449349</td>\n",
       "      <td>-0.501789</td>\n",
       "      <td>-0.490746</td>\n",
       "      <td>24</td>\n",
       "      <td>LAYING</td>\n",
       "    </tr>\n",
       "  </tbody>\n",
       "</table>\n",
       "<p>5 rows × 563 columns</p>\n",
       "</div>"
      ],
      "text/plain": [
       "       tBodyAcc-mean()-X  tBodyAcc-mean()-Y  tBodyAcc-mean()-Z  \\\n",
       "6505            0.278909          -0.016122          -0.108804   \n",
       "4384            0.278544          -0.017497          -0.111402   \n",
       "7480            0.243931          -0.004004          -0.122676   \n",
       "5960            0.278354          -0.016345          -0.111278   \n",
       "10196           0.291115          -0.014618          -0.112456   \n",
       "\n",
       "       tBodyAcc-std()-X  tBodyAcc-std()-Y  tBodyAcc-std()-Z  tBodyAcc-mad()-X  \\\n",
       "6505          -0.991421         -0.958884         -0.943642         -0.992854   \n",
       "4384          -0.997560         -0.980832         -0.987017         -0.997578   \n",
       "7480          -0.092084          0.010789          0.199388         -0.193510   \n",
       "5960          -0.985230         -0.988805         -0.990760         -0.985383   \n",
       "10196         -0.968179         -0.982618         -0.983055         -0.967095   \n",
       "\n",
       "       tBodyAcc-mad()-Y  tBodyAcc-mad()-Z  tBodyAcc-max()-X  ...  \\\n",
       "6505          -0.959690         -0.944281         -0.926421  ...   \n",
       "4384          -0.979116         -0.988149         -0.942968  ...   \n",
       "7480          -0.041149          0.186226          0.315973  ...   \n",
       "5960          -0.987864         -0.990653         -0.930099  ...   \n",
       "10196         -0.982565         -0.980663         -0.916381  ...   \n",
       "\n",
       "       fBodyBodyGyroJerkMag-kurtosis()  angle(tBodyAccMean,gravity)  \\\n",
       "6505                         -0.604272                    -0.135149   \n",
       "4384                         -0.919445                    -0.089110   \n",
       "7480                         -0.639589                     0.368217   \n",
       "5960                         -0.950759                     0.332895   \n",
       "10196                        -0.940910                    -0.090369   \n",
       "\n",
       "       angle(tBodyAccJerkMean),gravityMean)  angle(tBodyGyroMean,gravityMean)  \\\n",
       "6505                              -0.006428                         -0.840651   \n",
       "4384                              -0.044198                         -0.607149   \n",
       "7480                               0.310372                          0.969768   \n",
       "5960                               0.404353                          0.222148   \n",
       "10196                              0.008545                          0.387679   \n",
       "\n",
       "       angle(tBodyGyroJerkMean,gravityMean)  angle(X,gravityMean)  \\\n",
       "6505                               0.548457             -0.690776   \n",
       "4384                               0.601884             -0.817034   \n",
       "7480                              -0.504041             -0.496266   \n",
       "5960                               0.056738              0.604472   \n",
       "10196                             -0.204587              0.449349   \n",
       "\n",
       "       angle(Y,gravityMean)  angle(Z,gravityMean)  subject            Activity  \n",
       "6505               0.291574              0.110070       28             SITTING  \n",
       "4384               0.214795             -0.032885       22            STANDING  \n",
       "7480               0.268661              0.327231        2  WALKING_DOWNSTAIRS  \n",
       "5960              -0.363929             -0.648498       27              LAYING  \n",
       "10196             -0.501789             -0.490746       24              LAYING  \n",
       "\n",
       "[5 rows x 563 columns]"
      ]
     },
     "execution_count": 5,
     "metadata": {},
     "output_type": "execute_result"
    }
   ],
   "source": [
    "train_set.head()"
   ]
  },
  {
   "cell_type": "markdown",
   "metadata": {},
   "source": [
    "Create the `numpy` representation from the `pandas.DataFrame` objects."
   ]
  },
  {
   "cell_type": "code",
   "execution_count": 6,
   "metadata": {},
   "outputs": [],
   "source": [
    "y_train_set = train_set[['Activity']].values.ravel()\n",
    "x_train_set = train_set.drop(['Activity','subject'], axis=1).values\n",
    "\n",
    "x_dev_set = dev_set.drop(['Activity','subject'], axis=1).values\n",
    "y_dev_set = dev_set[['Activity']].values.ravel()\n",
    "\n",
    "x_test_set = test_set.drop(['Activity','subject'], axis=1).values\n",
    "y_test_set = test_set[['Activity']].values.ravel()"
   ]
  },
  {
   "cell_type": "markdown",
   "metadata": {},
   "source": [
    "### 1.2 Feature selection"
   ]
  },
  {
   "cell_type": "code",
   "execution_count": 7,
   "metadata": {},
   "outputs": [],
   "source": [
    "from sklearn.feature_selection import SelectKBest\n",
    "from sklearn.feature_selection import f_classif"
   ]
  },
  {
   "cell_type": "markdown",
   "metadata": {},
   "source": [
    "The feature selection has the purpose to retain from the data only those features that are the most relevant, i.e. useful, purging the data from those which add few or no significant improvement.\n",
    "\n",
    "Dimensionality reduction is different from feature selection, cause it projects the data in a new space, giving as a result a set of new features, whereas feature selection filters out the original features.\n",
    "\n",
    "Feature selection is carried out by statical analyses, such as correlation analysis. For classification tasks on numerical data the ANOVA statistical model is known to be quite good. Then, we leverage its implementation in sklearn."
   ]
  },
  {
   "cell_type": "code",
   "execution_count": 8,
   "metadata": {},
   "outputs": [],
   "source": [
    "fs = SelectKBest(score_func=f_classif, k=300)"
   ]
  },
  {
   "cell_type": "code",
   "execution_count": 9,
   "metadata": {},
   "outputs": [],
   "source": [
    "y_train_set_s = train_set[['Activity']].values.ravel()\n",
    "x_train_set_s = fs.fit_transform(train_set.drop(['Activity','subject'], axis=1).values, y_train_set)\n",
    "\n",
    "x_dev_set_s = fs.transform(dev_set.drop(['Activity','subject'], axis=1))\n",
    "y_dev_set_s = dev_set[['Activity']].values.ravel()\n",
    "\n",
    "x_test_set_s = fs.transform(test_set.drop(['Activity','subject'], axis=1))\n",
    "y_test_set_s = test_set[['Activity']].values.ravel()"
   ]
  },
  {
   "cell_type": "markdown",
   "metadata": {},
   "source": [
    "We can see which features are kept:"
   ]
  },
  {
   "cell_type": "code",
   "execution_count": 10,
   "metadata": {},
   "outputs": [
    {
     "data": {
      "text/plain": [
       "Index(['tBodyAcc-std()-X', 'tBodyAcc-std()-Y', 'tBodyAcc-std()-Z',\n",
       "       'tBodyAcc-mad()-X', 'tBodyAcc-mad()-Y', 'tBodyAcc-mad()-Z',\n",
       "       'tBodyAcc-max()-X', 'tBodyAcc-max()-Y', 'tBodyAcc-max()-Z',\n",
       "       'tBodyAcc-min()-X',\n",
       "       ...\n",
       "       'fBodyBodyGyroJerkMag-std()', 'fBodyBodyGyroJerkMag-mad()',\n",
       "       'fBodyBodyGyroJerkMag-max()', 'fBodyBodyGyroJerkMag-min()',\n",
       "       'fBodyBodyGyroJerkMag-sma()', 'fBodyBodyGyroJerkMag-iqr()',\n",
       "       'fBodyBodyGyroJerkMag-entropy()', 'angle(X,gravityMean)',\n",
       "       'angle(Y,gravityMean)', 'angle(Z,gravityMean)'],\n",
       "      dtype='object', length=300)"
      ]
     },
     "execution_count": 10,
     "metadata": {},
     "output_type": "execute_result"
    }
   ],
   "source": [
    "train_set.drop(['Activity','subject'], axis=1).columns[fs.get_support() == True]"
   ]
  },
  {
   "cell_type": "markdown",
   "metadata": {},
   "source": [
    "### 1.3 Dimensionality reduction"
   ]
  },
  {
   "cell_type": "markdown",
   "metadata": {},
   "source": [
    "As an alternative step to the feature selection, we consider the dimensionality reduction in order to project the original feature space into a new lower-dimensional feature space. Even in this case, we leverage the objects of the `sklearn` library."
   ]
  },
  {
   "cell_type": "code",
   "execution_count": 14,
   "metadata": {},
   "outputs": [],
   "source": [
    "from sklearn.decomposition import TruncatedSVD"
   ]
  },
  {
   "cell_type": "code",
   "execution_count": 15,
   "metadata": {},
   "outputs": [],
   "source": [
    "svd = TruncatedSVD(n_components=200)\n",
    "x_train_set_r = svd.fit_transform(x_train_set)\n",
    "x_dev_set_r = svd.transform(x_dev_set)\n",
    "x_test_set_r = svd.transform(x_test_set)"
   ]
  },
  {
   "cell_type": "markdown",
   "metadata": {},
   "source": [
    "We check how much variance is retained with the number of components we chose."
   ]
  },
  {
   "cell_type": "code",
   "execution_count": 16,
   "metadata": {},
   "outputs": [
    {
     "data": {
      "text/plain": [
       "99.99572513060758"
      ]
     },
     "execution_count": 16,
     "metadata": {},
     "output_type": "execute_result"
    }
   ],
   "source": [
    "np.sum(svd.explained_variance_ratio_) * 100"
   ]
  },
  {
   "cell_type": "markdown",
   "metadata": {},
   "source": [
    "### 1.4 Encoding Labels"
   ]
  },
  {
   "cell_type": "markdown",
   "metadata": {},
   "source": [
    "We encode the activity labels to numerical labels."
   ]
  },
  {
   "cell_type": "code",
   "execution_count": 17,
   "metadata": {},
   "outputs": [],
   "source": [
    "from sklearn import preprocessing\n",
    "\n",
    "\n",
    "le = preprocessing.LabelEncoder()\n",
    "y_train_set = le.fit_transform(y_train_set)\n",
    "\n",
    "le = preprocessing.LabelEncoder()\n",
    "y_dev_set = le.fit_transform(y_dev_set)\n",
    "\n",
    "le = preprocessing.LabelEncoder()\n",
    "y_test_set = le.fit_transform(y_test_set)"
   ]
  },
  {
   "cell_type": "markdown",
   "metadata": {},
   "source": [
    "See the actual corresponding classes."
   ]
  },
  {
   "cell_type": "code",
   "execution_count": 18,
   "metadata": {},
   "outputs": [
    {
     "name": "stdout",
     "output_type": "stream",
     "text": [
      "{'LAYING': 0, 'SITTING': 1, 'STANDING': 2, 'WALKING': 3, 'WALKING_DOWNSTAIRS': 4, 'WALKING_UPSTAIRS': 5}\n"
     ]
    }
   ],
   "source": [
    "le_name_mapping = dict(zip(le.classes_, le.transform(le.classes_)))\n",
    "print(le_name_mapping)"
   ]
  },
  {
   "cell_type": "markdown",
   "metadata": {},
   "source": [
    "## 2. Models"
   ]
  },
  {
   "cell_type": "markdown",
   "metadata": {},
   "source": [
    "### 2.1 GDA"
   ]
  },
  {
   "cell_type": "markdown",
   "metadata": {},
   "source": [
    "As the first model, we focus on the Gaussian Discriminant Analysis model. Indeed, we want to compare in the end the results of our model with those provided in the paper \"Activity Classification with Smartphone Data\".\n",
    "\n",
    "For the GDA, we provide a custom implementation, that is inspired by Bam Tak's."
   ]
  },
  {
   "cell_type": "code",
   "execution_count": 19,
   "metadata": {},
   "outputs": [],
   "source": [
    "def gda(x, y, x_test, y_test, eval_score=False):\n",
    "    y_classes, y_counts = np.unique(y, return_counts=True)\n",
    "    p_y = 1.0 * y_counts/len(y)\n",
    "    mu = np.array([ x[y==k].mean(axis=0) for k in y_classes])\n",
    "    sigma = compute_sigma(x, y, mu, y_classes)\n",
    "    #adding noise\n",
    "    sigma += np.ones_like(sigma) * 1e-10\n",
    "    sigma = np.linalg.pinv(sigma)\n",
    "    if eval_score:\n",
    "        return score(x_test, y_test, mu, sigma, p_y)\n",
    "    return predict(x_test, mu, sigma, p_y)\n",
    "\n",
    "def compute_sigma(x, y, mu, y_classes):\n",
    "    x_u = x.copy()\n",
    "    for i in range(len(mu)):\n",
    "        x_u[y==y_classes[i]] -= mu[i]\n",
    "    return x_u.T.dot(x_u) / len(y)\n",
    "    \n",
    "def predict(data, mu, sigma, p_y):\n",
    "    return np.apply_along_axis(lambda x: (np.argmax(np.exp(-0.5 * np.sum((x - mu).dot(sigma) * (x - mu), axis =1)) * p_y)), 1, data)\n",
    "\n",
    "def score(x, y, mu, sigma, p_y):\n",
    "    return (predict(x, mu, sigma, p_y) == y).mean()"
   ]
  },
  {
   "cell_type": "markdown",
   "metadata": {},
   "source": [
    "Let's try the model on the evaluation set."
   ]
  },
  {
   "cell_type": "code",
   "execution_count": 20,
   "metadata": {},
   "outputs": [
    {
     "data": {
      "text/plain": [
       "0.9640776699029127"
      ]
     },
     "execution_count": 20,
     "metadata": {},
     "output_type": "execute_result"
    }
   ],
   "source": [
    "gda(x_train_set, y_train_set, x_dev_set, y_dev_set, eval_score=True)"
   ]
  },
  {
   "cell_type": "markdown",
   "metadata": {},
   "source": [
    "Then, let's see the performance of GDA on the test set."
   ]
  },
  {
   "cell_type": "code",
   "execution_count": 21,
   "metadata": {},
   "outputs": [],
   "source": [
    "model = gda(x_train_set, y_train_set, x_test_set, y_test_set, eval_score=True)"
   ]
  },
  {
   "cell_type": "code",
   "execution_count": 22,
   "metadata": {},
   "outputs": [
    {
     "data": {
      "text/plain": [
       "0.9577669902912621"
      ]
     },
     "execution_count": 22,
     "metadata": {},
     "output_type": "execute_result"
    }
   ],
   "source": [
    "model"
   ]
  },
  {
   "cell_type": "markdown",
   "metadata": {},
   "source": [
    "In the following section, we will look for the number of features that will give us the best performance."
   ]
  },
  {
   "cell_type": "markdown",
   "metadata": {},
   "source": [
    "### 2.2 SVM"
   ]
  },
  {
   "cell_type": "markdown",
   "metadata": {},
   "source": [
    "The second model we are going to apply is the Support Vector Machine model. \n",
    "\n",
    "We reviewed and dived into the optimization techniques of SVM. Even thought we tried to implement SVM from scratch, following the Platt's SMO algorithm, for the analysis on our dataset we leverage the SVM implementation of `sklearn` library."
   ]
  },
  {
   "cell_type": "code",
   "execution_count": 23,
   "metadata": {},
   "outputs": [],
   "source": [
    "from sklearn.svm import SVC\n",
    "from sklearn.metrics import classification_report, confusion_matrix"
   ]
  },
  {
   "cell_type": "code",
   "execution_count": 27,
   "metadata": {},
   "outputs": [
    {
     "data": {
      "text/plain": [
       "SVC(C=100.0, gamma=0.1)"
      ]
     },
     "execution_count": 27,
     "metadata": {},
     "output_type": "execute_result"
    }
   ],
   "source": [
    "svclassifier = SVC(kernel='rbf', C=100.0, gamma=0.1)\n",
    "svclassifier.fit(x_train_set, y_train_set)"
   ]
  },
  {
   "cell_type": "markdown",
   "metadata": {},
   "source": [
    "We apply the trained model to the evaluation set and we print the performance scores."
   ]
  },
  {
   "cell_type": "code",
   "execution_count": 28,
   "metadata": {},
   "outputs": [],
   "source": [
    "y_pred = svclassifier.predict(x_dev_set)"
   ]
  },
  {
   "cell_type": "code",
   "execution_count": 29,
   "metadata": {},
   "outputs": [
    {
     "name": "stdout",
     "output_type": "stream",
     "text": [
      "[[386   0   0   0   5   0]\n",
      " [  0 337   9   0   2   0]\n",
      " [  0   6 359   0   0   0]\n",
      " [  0   0   0 366   1   0]\n",
      " [  0   0   0   1 288   0]\n",
      " [  0   0   0   1   1 298]]\n",
      "\n",
      "              precision    recall  f1-score   support\n",
      "\n",
      "           0       1.00      0.99      0.99       391\n",
      "           1       0.98      0.97      0.98       348\n",
      "           2       0.98      0.98      0.98       365\n",
      "           3       0.99      1.00      1.00       367\n",
      "           4       0.97      1.00      0.98       289\n",
      "           5       1.00      0.99      1.00       300\n",
      "\n",
      "    accuracy                           0.99      2060\n",
      "   macro avg       0.99      0.99      0.99      2060\n",
      "weighted avg       0.99      0.99      0.99      2060\n",
      "\n"
     ]
    }
   ],
   "source": [
    "print(confusion_matrix(y_dev_set,y_pred))\n",
    "print()\n",
    "print(classification_report(y_dev_set,y_pred))"
   ]
  },
  {
   "cell_type": "markdown",
   "metadata": {},
   "source": [
    "## 3. Models tuning"
   ]
  },
  {
   "cell_type": "markdown",
   "metadata": {},
   "source": [
    "At this point, we consider again the models we are going to train: GDA and SVM. We want to find the most convenient configuration of the data-model system in terms of performance. "
   ]
  },
  {
   "cell_type": "code",
   "execution_count": 24,
   "metadata": {},
   "outputs": [],
   "source": [
    "from sklearn.model_selection import GridSearchCV\n",
    "from sklearn.model_selection import PredefinedSplit\n",
    "from sklearn.metrics import plot_confusion_matrix\n",
    "from tqdm import tqdm"
   ]
  },
  {
   "cell_type": "markdown",
   "metadata": {},
   "source": [
    "### 3.1 GDA tuning"
   ]
  },
  {
   "cell_type": "markdown",
   "metadata": {},
   "source": [
    "With the functions below we apply different combinations of features selection and dimensionality reduction steps.\n",
    "\n",
    "We try to combine both of the techniques or to apply just one of them."
   ]
  },
  {
   "cell_type": "code",
   "execution_count": 51,
   "metadata": {},
   "outputs": [],
   "source": [
    "def select_features(train_set, dev_set, n_features):\n",
    "    global y_train_set\n",
    "    fs = SelectKBest(score_func=f_classif, k=n_features)\n",
    "    x_train_s = fs.fit_transform(train_set.drop(['Activity','subject'], axis=1).values, y_train_set)\n",
    "    x_dev_s = fs.transform(dev_set.drop(['Activity','subject'], axis=1))\n",
    "    return x_train_s, x_dev_s\n",
    "\n",
    "\n",
    "def reduce_features(x_train, x_dev, n_components):\n",
    "    svd = TruncatedSVD(n_components=n_components)\n",
    "    x_train_r = svd.fit_transform(x_train)\n",
    "    x_dev_r = svd.transform(x_dev)\n",
    "    return x_train_r, x_dev_r\n",
    "\n",
    "\n",
    "def tune_model_gda(train_set, dev_set):\n",
    "    log_result = {}\n",
    "    global y_train_set, y_dev_set\n",
    "    for n_features in tqdm((50, 100, 300, 400, 561)):\n",
    "        log_result[n_features] = {}\n",
    "        x_train_select, x_dev_select = select_features(train_set, dev_set, n_features)\n",
    "        for n_components in range(10, n_features, 50):\n",
    "            x_train_reduced, x_dev_reduced = reduce_features(x_train_select, x_dev_select, n_components)\n",
    "            log_result[n_features][n_components] = gda(x_train_reduced, y_train_set, x_dev_reduced, y_dev_set, eval_score=True)\n",
    "    return log_result"
   ]
  },
  {
   "cell_type": "code",
   "execution_count": 29,
   "metadata": {},
   "outputs": [],
   "source": [
    "# result = {}\n",
    "# for n_features in (50, 100, 300, 400, 561):\n",
    "#     fs = SelectKBest(score_func=f_classif, k=n_features)\n",
    "#     result[n_features] = {}\n",
    "#     for n_components in range(10, n_features, 50):\n",
    "#         svd = TruncatedSVD(n_components=n_components)\n",
    "        \n",
    "#         x_train_set_r = svd.fit_transform(fs.fit_transform(train_set.drop(['Activity','subject'], axis=1).values, y_train_set))\n",
    "\n",
    "#         x_dev_set_r = svd.transform(fs.transform(dev_set.drop(['Activity','subject'], axis=1)))\n",
    "\n",
    "#         x_test_set_r = svd.transform(fs.transform(test_set.drop(['Activity','subject'], axis=1)))\n",
    "#         result[n_features][n_components] = gda(x_train_set_r, y_train_set, x_test_set_r, y_test_set)"
   ]
  },
  {
   "cell_type": "markdown",
   "metadata": {},
   "source": [
    "Now, we call the function `tune_model_gda(..)` and we save the result into a dictionary."
   ]
  },
  {
   "cell_type": "code",
   "execution_count": 34,
   "metadata": {},
   "outputs": [
    {
     "name": "stderr",
     "output_type": "stream",
     "text": [
      "100%|██████████| 5/5 [00:10<00:00,  2.12s/it]\n"
     ]
    }
   ],
   "source": [
    "result_gda = tune_model_gda(train_set, dev_set)"
   ]
  },
  {
   "cell_type": "markdown",
   "metadata": {},
   "source": [
    "Finally, we see which configuration gives us the best performance."
   ]
  },
  {
   "cell_type": "code",
   "execution_count": 48,
   "metadata": {},
   "outputs": [
    {
     "name": "stdout",
     "output_type": "stream",
     "text": [
      "First 10 top accuracy scores:\n",
      "\n",
      "[0.96407767 0.96407767 0.96504854 0.96553398 0.96747573 0.97038835\n",
      " 0.97135922 0.97281553 0.97524272 0.97864078]\n",
      "\n",
      "\n",
      "Corresponding top configurations:\n",
      "\n",
      "[[400 160]\n",
      " [400 310]\n",
      " [300 210]\n",
      " [561 360]\n",
      " [400 210]\n",
      " [561 310]\n",
      " [400 260]\n",
      " [561 160]\n",
      " [561 260]\n",
      " [561 210]]\n",
      "\n",
      "\n",
      "\n",
      "**************************************************\n",
      "\n",
      "Best configuration:\t(561, 210) 0.9786407766990292\n"
     ]
    }
   ],
   "source": [
    "max_acc_gda = []\n",
    "indices_gda = []\n",
    "\n",
    "for n_features in (50, 100, 300, 400, 561):\n",
    "    for n_components in range(10, n_features, 50):\n",
    "        max_acc_gda.append(result_gda[n_features][n_components])\n",
    "        indices_gda.append((n_features, n_components))\n",
    "        \n",
    "i = np.argsort(np.array(max_acc_gda))\n",
    "print(f'First 10 top accuracy scores:\\n\\n{np.array(max_acc_gda)[i[-10:]]}\\n\\n')\n",
    "print(f'Corresponding top configurations:\\n\\n{np.array(indices_gda)[i[-10:]]}\\n\\n\\n')\n",
    "print('*'*50)\n",
    "print(f'\\nBest configuration:\\t{indices_gda[i[-1]]} {result_gda[indices_gda[i[-1]][0]][indices_gda[i[-1]][1]]}')"
   ]
  },
  {
   "cell_type": "markdown",
   "metadata": {},
   "source": [
    "### 3.2 SVM tuning"
   ]
  },
  {
   "cell_type": "markdown",
   "metadata": {},
   "source": [
    "We slightly modify the function above to fit the SVM model and to make use of the `GridSearchCV` function."
   ]
  },
  {
   "cell_type": "code",
   "execution_count": 52,
   "metadata": {},
   "outputs": [],
   "source": [
    "\n",
    "def tune_model_svm(train_set, dev_set, estimator, params):\n",
    "    log_result = {}\n",
    "    test_fold = np.append(np.full((train_set.shape[0],), -1, dtype=int), np.full((dev_set.shape[0],), 0, dtype=int))\n",
    "    ps = PredefinedSplit(test_fold)\n",
    "    y_train_dev = np.vstack((train_set[['Activity']].values, dev_set[['Activity']].values)).ravel()\n",
    "    for n_features in tqdm((50, 100, 300, 400, 561)):\n",
    "        log_result[n_features] = {}\n",
    "        x_train_set, x_dev_set = select_features(train_set, dev_set, n_features)\n",
    "        for n_components in range(10, n_features, 50):\n",
    "            train_dev_set = np.vstack(reduce_features(x_train_set, x_dev_set, n_components))\n",
    "            grid = GridSearchCV(estimator=estimator, param_grid=params, scoring='accuracy', cv=ps)\n",
    "            grid.fit(train_dev_set, y_train_dev)\n",
    "            log_result[n_features][n_components] = (grid.best_score_, grid.best_params_)\n",
    "    return log_result\n",
    "            "
   ]
  },
  {
   "cell_type": "markdown",
   "metadata": {},
   "source": [
    "As before, we call the function `tune_model_svm(..)` and we save the result into a dictionary."
   ]
  },
  {
   "cell_type": "code",
   "execution_count": 53,
   "metadata": {},
   "outputs": [
    {
     "name": "stderr",
     "output_type": "stream",
     "text": [
      "100%|██████████| 5/5 [19:12<00:00, 230.50s/it]\n"
     ]
    }
   ],
   "source": [
    "params={'kernel':['linear','rbf'],'C':[1,10,100],'gamma':[1e-2,1e-3,1e-4]}\n",
    "result_svm = tune_model_svm(train_set, dev_set, SVC(), params)"
   ]
  },
  {
   "cell_type": "markdown",
   "metadata": {},
   "source": [
    "Then, we print the best configurations"
   ]
  },
  {
   "cell_type": "code",
   "execution_count": 58,
   "metadata": {},
   "outputs": [
    {
     "name": "stdout",
     "output_type": "stream",
     "text": [
      "First 10 top accuracy scores:\n",
      "\n",
      "[0.98883495 0.98980583 0.9907767  0.99126214 0.99126214 0.99174757\n",
      " 0.99174757 0.99174757 0.99174757 0.99174757]\n",
      "\n",
      "\n",
      "\n",
      "Corresponding top comnfigurations[[561 110]\n",
      " [561 160]\n",
      " [561 210]\n",
      " [561 260]\n",
      " [561 360]\n",
      " [561 510]\n",
      " [561 310]\n",
      " [561 410]\n",
      " [561 460]\n",
      " [561 560]]\n",
      "\n",
      "\n",
      "\n",
      "********************\n",
      "\n",
      "Best configuration:\t(561, 310) (0.9917475728155339, {'C': 100, 'gamma': 0.01, 'kernel': 'rbf'})\n"
     ]
    }
   ],
   "source": [
    "max_acc = []\n",
    "indices = []\n",
    "\n",
    "for n_features in (50, 100, 300, 400, 561):\n",
    "    for n_components in range(10, n_features, 50):\n",
    "        max_acc.append(result[n_features][n_components][0])\n",
    "        indices.append((n_features, n_components))\n",
    "        \n",
    "i = np.argsort(np.array(max_acc))\n",
    "print(f'First 10 top accuracy scores:\\n\\n{np.array(max_acc)[i[-10:]]}\\n\\n\\n')\n",
    "print(f'Corresponding top comnfigurations{np.array(indices)[i[-10:]]}\\n\\n\\n')\n",
    "print('*'*20)\n",
    "print(f'\\nBest configuration:\\t{indices[i[-4]]} {result[indices[i[-4]][0]][indices[i[-4]][1]]}')"
   ]
  },
  {
   "cell_type": "code",
   "execution_count": null,
   "metadata": {},
   "outputs": [],
   "source": []
  },
  {
   "cell_type": "markdown",
   "metadata": {},
   "source": [
    "## 4. Final models"
   ]
  },
  {
   "cell_type": "markdown",
   "metadata": {},
   "source": [
    "### 4.1 GDA final"
   ]
  },
  {
   "cell_type": "code",
   "execution_count": null,
   "metadata": {},
   "outputs": [],
   "source": [
    "svd = TruncatedSVD(n_components=210)\n",
    "x_train_set_r = svd.fit_transform(x_train_set)\n",
    "x_test_set_r = svd.transform(x_test_set)"
   ]
  },
  {
   "cell_type": "code",
   "execution_count": null,
   "metadata": {},
   "outputs": [],
   "source": [
    "y_pred = gda(x_train_set_r, y_train_set, x_dev_set_r, y_dev_set)"
   ]
  },
  {
   "cell_type": "code",
   "execution_count": 29,
   "metadata": {},
   "outputs": [
    {
     "data": {
      "image/png": "[encoded data removed]",
      "text/plain": [
       "<Figure size 1080x1080 with 2 Axes>"
      ]
     },
     "metadata": {},
     "output_type": "display_data"
    }
   ],
   "source": [
    "import seaborn as sn\n",
    "from matplotlib import pyplot as plt\n",
    "import matplotlib\n",
    "from scipy.stats import zscore\n",
    "\n",
    "cm = confusion_matrix(y_test_set,y_pred)\n",
    "#cm =zscore(cm)\n",
    "\n",
    "df_cm = pd.DataFrame(cm, index = ['LAYING', 'SITTING', 'STANDING', 'WALKING', 'WALKING_DOWNSTAIRS', 'WALKING_UPSTAIRS'], \n",
    "                     columns = ['LAYING', 'SITTING', 'STANDING', 'WALKING', 'WALKING_DOWNSTAIRS', 'WALKING_UPSTAIRS'])\n",
    "\n",
    "with plt.style.context(\"seaborn-whitegrid\"):\n",
    "    plt.rcParams.update({'font.size': 22})\n",
    "    plt.rc('axes', titlesize=22)     # fontsize of the axes title\n",
    "    plt.rc('axes', labelsize=22)\n",
    "    plt.rcParams[\"axes.edgecolor\"] = \"0.15\"\n",
    "    plt.rcParams[\"axes.linewidth\"]  = 1.25\n",
    "    fig, ax = plt.subplots(figsize=(15, 15))\n",
    "    \n",
    "\n",
    "    sn.heatmap(df_cm, annot=True, cmap=plt.cm.Blues, fmt='g', ax=ax)\n",
    "    plt.xlabel('Predicted label')\n",
    "    plt.ylabel('True label', rotation='vertical')\n",
    "\n",
    "#plot_confusion_matrix(gda, x_test_set, y_test_set, cmap=plt.cm.Blues, normalize=True, ax=ax)\n",
    "#plt.xticks(rotation='vertical')\n",
    "#plt.show()"
   ]
  },
  {
   "cell_type": "markdown",
   "metadata": {},
   "source": [
    "### 4.2 SVM final"
   ]
  },
  {
   "cell_type": "code",
   "execution_count": null,
   "metadata": {},
   "outputs": [],
   "source": [
    "svd = TruncatedSVD(n_components=310)\n",
    "x_train_set_r = svd.fit_transform(x_train_set)\n",
    "x_test_set_r = svd.transform(x_test_set)"
   ]
  },
  {
   "cell_type": "code",
   "execution_count": null,
   "metadata": {},
   "outputs": [],
   "source": [
    "svclassifier = SVC(kernel='rbf', C=100.0, gamma=0.01)\n",
    "svclassifier.fit(x_train_set_r, y_train_set)"
   ]
  },
  {
   "cell_type": "code",
   "execution_count": 36,
   "metadata": {},
   "outputs": [
    {
     "data": {
      "image/png": "[encoded data removed]",
      "text/plain": [
       "<Figure size 1080x1080 with 2 Axes>"
      ]
     },
     "metadata": {
      "needs_background": "light"
     },
     "output_type": "display_data"
    }
   ],
   "source": [
    "import matplotlib\n",
    "\n",
    "fig, ax = plt.subplots(figsize=(15, 15))\n",
    "plt.rcParams.update({'font.size': 22})\n",
    "plt.rc('axes', titlesize=22)     # fontsize of the axes title\n",
    "plt.rc('axes', labelsize=22)\n",
    "plot_confusion_matrix(svclassifier, x_test_set_r, y_test_set, cmap=plt.cm.Blues, normalize=True, ax=ax)\n",
    "plt.xticks(rotation='vertical')\n",
    "plt.show()"
   ]
  }
 ],
 "metadata": {
  "kernelspec": {
   "display_name": "Python 3",
   "language": "python",
   "name": "python3"
  },
  "language_info": {
   "codemirror_mode": {
    "name": "ipython",
    "version": 3
   },
   "file_extension": ".py",
   "mimetype": "text/x-python",
   "name": "python",
   "nbconvert_exporter": "python",
   "pygments_lexer": "ipython3",
   "version": "3.8.3"
  }
 },
 "nbformat": 4,
 "nbformat_minor": 4
}
