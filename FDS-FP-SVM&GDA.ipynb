{
 "cells": [
  {
   "cell_type": "code",
   "execution_count": 2,
   "metadata": {},
   "outputs": [],
   "source": [
    "#import matplotlib.pyplot as plt\n",
    "import pandas as pd\n",
    "import numpy as np\n",
    "\n",
    "from sklearn.metrics import classification_report, confusion_matrix, accuracy_score\n",
    "from sklearn import preprocessing"
   ]
  },
  {
   "cell_type": "code",
   "execution_count": 3,
   "metadata": {},
   "outputs": [],
   "source": [
    "#load the main dataset used divide in training set and testing set \n",
    "train_set = pd.read_csv(\"train.csv\", sep=\",\")\n",
    "test_set = pd.read_csv(\"test.csv\", sep=\",\")"
   ]
  },
  {
   "cell_type": "code",
   "execution_count": 4,
   "metadata": {},
   "outputs": [
    {
     "data": {
      "text/html": [
       "<div>\n",
       "<style scoped>\n",
       "    .dataframe tbody tr th:only-of-type {\n",
       "        vertical-align: middle;\n",
       "    }\n",
       "\n",
       "    .dataframe tbody tr th {\n",
       "        vertical-align: top;\n",
       "    }\n",
       "\n",
       "    .dataframe thead th {\n",
       "        text-align: right;\n",
       "    }\n",
       "</style>\n",
       "<table border=\"1\" class=\"dataframe\">\n",
       "  <thead>\n",
       "    <tr style=\"text-align: right;\">\n",
       "      <th></th>\n",
       "      <th>tBodyAcc-mean()-X</th>\n",
       "      <th>tBodyAcc-mean()-Y</th>\n",
       "      <th>tBodyAcc-mean()-Z</th>\n",
       "      <th>tBodyAcc-std()-X</th>\n",
       "      <th>tBodyAcc-std()-Y</th>\n",
       "      <th>tBodyAcc-std()-Z</th>\n",
       "      <th>tBodyAcc-mad()-X</th>\n",
       "      <th>tBodyAcc-mad()-Y</th>\n",
       "      <th>tBodyAcc-mad()-Z</th>\n",
       "      <th>tBodyAcc-max()-X</th>\n",
       "      <th>...</th>\n",
       "      <th>fBodyBodyGyroJerkMag-kurtosis()</th>\n",
       "      <th>angle(tBodyAccMean,gravity)</th>\n",
       "      <th>angle(tBodyAccJerkMean),gravityMean)</th>\n",
       "      <th>angle(tBodyGyroMean,gravityMean)</th>\n",
       "      <th>angle(tBodyGyroJerkMean,gravityMean)</th>\n",
       "      <th>angle(X,gravityMean)</th>\n",
       "      <th>angle(Y,gravityMean)</th>\n",
       "      <th>angle(Z,gravityMean)</th>\n",
       "      <th>subject</th>\n",
       "      <th>Activity</th>\n",
       "    </tr>\n",
       "  </thead>\n",
       "  <tbody>\n",
       "    <tr>\n",
       "      <th>0</th>\n",
       "      <td>0.288585</td>\n",
       "      <td>-0.020294</td>\n",
       "      <td>-0.132905</td>\n",
       "      <td>-0.995279</td>\n",
       "      <td>-0.983111</td>\n",
       "      <td>-0.913526</td>\n",
       "      <td>-0.995112</td>\n",
       "      <td>-0.983185</td>\n",
       "      <td>-0.923527</td>\n",
       "      <td>-0.934724</td>\n",
       "      <td>...</td>\n",
       "      <td>-0.710304</td>\n",
       "      <td>-0.112754</td>\n",
       "      <td>0.030400</td>\n",
       "      <td>-0.464761</td>\n",
       "      <td>-0.018446</td>\n",
       "      <td>-0.841247</td>\n",
       "      <td>0.179941</td>\n",
       "      <td>-0.058627</td>\n",
       "      <td>1</td>\n",
       "      <td>STANDING</td>\n",
       "    </tr>\n",
       "    <tr>\n",
       "      <th>1</th>\n",
       "      <td>0.278419</td>\n",
       "      <td>-0.016411</td>\n",
       "      <td>-0.123520</td>\n",
       "      <td>-0.998245</td>\n",
       "      <td>-0.975300</td>\n",
       "      <td>-0.960322</td>\n",
       "      <td>-0.998807</td>\n",
       "      <td>-0.974914</td>\n",
       "      <td>-0.957686</td>\n",
       "      <td>-0.943068</td>\n",
       "      <td>...</td>\n",
       "      <td>-0.861499</td>\n",
       "      <td>0.053477</td>\n",
       "      <td>-0.007435</td>\n",
       "      <td>-0.732626</td>\n",
       "      <td>0.703511</td>\n",
       "      <td>-0.844788</td>\n",
       "      <td>0.180289</td>\n",
       "      <td>-0.054317</td>\n",
       "      <td>1</td>\n",
       "      <td>STANDING</td>\n",
       "    </tr>\n",
       "    <tr>\n",
       "      <th>2</th>\n",
       "      <td>0.279653</td>\n",
       "      <td>-0.019467</td>\n",
       "      <td>-0.113462</td>\n",
       "      <td>-0.995380</td>\n",
       "      <td>-0.967187</td>\n",
       "      <td>-0.978944</td>\n",
       "      <td>-0.996520</td>\n",
       "      <td>-0.963668</td>\n",
       "      <td>-0.977469</td>\n",
       "      <td>-0.938692</td>\n",
       "      <td>...</td>\n",
       "      <td>-0.760104</td>\n",
       "      <td>-0.118559</td>\n",
       "      <td>0.177899</td>\n",
       "      <td>0.100699</td>\n",
       "      <td>0.808529</td>\n",
       "      <td>-0.848933</td>\n",
       "      <td>0.180637</td>\n",
       "      <td>-0.049118</td>\n",
       "      <td>1</td>\n",
       "      <td>STANDING</td>\n",
       "    </tr>\n",
       "    <tr>\n",
       "      <th>3</th>\n",
       "      <td>0.279174</td>\n",
       "      <td>-0.026201</td>\n",
       "      <td>-0.123283</td>\n",
       "      <td>-0.996091</td>\n",
       "      <td>-0.983403</td>\n",
       "      <td>-0.990675</td>\n",
       "      <td>-0.997099</td>\n",
       "      <td>-0.982750</td>\n",
       "      <td>-0.989302</td>\n",
       "      <td>-0.938692</td>\n",
       "      <td>...</td>\n",
       "      <td>-0.482845</td>\n",
       "      <td>-0.036788</td>\n",
       "      <td>-0.012892</td>\n",
       "      <td>0.640011</td>\n",
       "      <td>-0.485366</td>\n",
       "      <td>-0.848649</td>\n",
       "      <td>0.181935</td>\n",
       "      <td>-0.047663</td>\n",
       "      <td>1</td>\n",
       "      <td>STANDING</td>\n",
       "    </tr>\n",
       "    <tr>\n",
       "      <th>4</th>\n",
       "      <td>0.276629</td>\n",
       "      <td>-0.016570</td>\n",
       "      <td>-0.115362</td>\n",
       "      <td>-0.998139</td>\n",
       "      <td>-0.980817</td>\n",
       "      <td>-0.990482</td>\n",
       "      <td>-0.998321</td>\n",
       "      <td>-0.979672</td>\n",
       "      <td>-0.990441</td>\n",
       "      <td>-0.942469</td>\n",
       "      <td>...</td>\n",
       "      <td>-0.699205</td>\n",
       "      <td>0.123320</td>\n",
       "      <td>0.122542</td>\n",
       "      <td>0.693578</td>\n",
       "      <td>-0.615971</td>\n",
       "      <td>-0.847865</td>\n",
       "      <td>0.185151</td>\n",
       "      <td>-0.043892</td>\n",
       "      <td>1</td>\n",
       "      <td>STANDING</td>\n",
       "    </tr>\n",
       "  </tbody>\n",
       "</table>\n",
       "<p>5 rows × 563 columns</p>\n",
       "</div>"
      ],
      "text/plain": [
       "   tBodyAcc-mean()-X  tBodyAcc-mean()-Y  tBodyAcc-mean()-Z  tBodyAcc-std()-X  \\\n",
       "0           0.288585          -0.020294          -0.132905         -0.995279   \n",
       "1           0.278419          -0.016411          -0.123520         -0.998245   \n",
       "2           0.279653          -0.019467          -0.113462         -0.995380   \n",
       "3           0.279174          -0.026201          -0.123283         -0.996091   \n",
       "4           0.276629          -0.016570          -0.115362         -0.998139   \n",
       "\n",
       "   tBodyAcc-std()-Y  tBodyAcc-std()-Z  tBodyAcc-mad()-X  tBodyAcc-mad()-Y  \\\n",
       "0         -0.983111         -0.913526         -0.995112         -0.983185   \n",
       "1         -0.975300         -0.960322         -0.998807         -0.974914   \n",
       "2         -0.967187         -0.978944         -0.996520         -0.963668   \n",
       "3         -0.983403         -0.990675         -0.997099         -0.982750   \n",
       "4         -0.980817         -0.990482         -0.998321         -0.979672   \n",
       "\n",
       "   tBodyAcc-mad()-Z  tBodyAcc-max()-X  ...  fBodyBodyGyroJerkMag-kurtosis()  \\\n",
       "0         -0.923527         -0.934724  ...                        -0.710304   \n",
       "1         -0.957686         -0.943068  ...                        -0.861499   \n",
       "2         -0.977469         -0.938692  ...                        -0.760104   \n",
       "3         -0.989302         -0.938692  ...                        -0.482845   \n",
       "4         -0.990441         -0.942469  ...                        -0.699205   \n",
       "\n",
       "   angle(tBodyAccMean,gravity)  angle(tBodyAccJerkMean),gravityMean)  \\\n",
       "0                    -0.112754                              0.030400   \n",
       "1                     0.053477                             -0.007435   \n",
       "2                    -0.118559                              0.177899   \n",
       "3                    -0.036788                             -0.012892   \n",
       "4                     0.123320                              0.122542   \n",
       "\n",
       "   angle(tBodyGyroMean,gravityMean)  angle(tBodyGyroJerkMean,gravityMean)  \\\n",
       "0                         -0.464761                             -0.018446   \n",
       "1                         -0.732626                              0.703511   \n",
       "2                          0.100699                              0.808529   \n",
       "3                          0.640011                             -0.485366   \n",
       "4                          0.693578                             -0.615971   \n",
       "\n",
       "   angle(X,gravityMean)  angle(Y,gravityMean)  angle(Z,gravityMean)  subject  \\\n",
       "0             -0.841247              0.179941             -0.058627        1   \n",
       "1             -0.844788              0.180289             -0.054317        1   \n",
       "2             -0.848933              0.180637             -0.049118        1   \n",
       "3             -0.848649              0.181935             -0.047663        1   \n",
       "4             -0.847865              0.185151             -0.043892        1   \n",
       "\n",
       "   Activity  \n",
       "0  STANDING  \n",
       "1  STANDING  \n",
       "2  STANDING  \n",
       "3  STANDING  \n",
       "4  STANDING  \n",
       "\n",
       "[5 rows x 563 columns]"
      ]
     },
     "execution_count": 4,
     "metadata": {},
     "output_type": "execute_result"
    }
   ],
   "source": [
    "train_set.head()"
   ]
  },
  {
   "cell_type": "markdown",
   "metadata": {},
   "source": [
    "We divide the train_set and test_set data to make our GDA model multi-classification, as follow:"
   ]
  },
  {
   "cell_type": "code",
   "execution_count": 83,
   "metadata": {},
   "outputs": [],
   "source": [
    "x_train_set = train_set.drop(['Activity','subject'], axis=1).values\n",
    "y_train_set = train_set[['Activity']].values"
   ]
  },
  {
   "cell_type": "markdown",
   "metadata": {},
   "source": [
    "The same for the test_set."
   ]
  },
  {
   "cell_type": "code",
   "execution_count": 85,
   "metadata": {},
   "outputs": [],
   "source": [
    "x_test_set = test_set.drop(['Activity','subject'], axis=1).values\n",
    "y_test_set = test_set[['Activity']].values"
   ]
  },
  {
   "cell_type": "markdown",
   "metadata": {},
   "source": [
    "### Encoding Labels"
   ]
  },
  {
   "cell_type": "markdown",
   "metadata": {},
   "source": [
    "Encodes the activity labels to numerical labels."
   ]
  },
  {
   "cell_type": "code",
   "execution_count": 86,
   "metadata": {},
   "outputs": [],
   "source": [
    "le = preprocessing.LabelEncoder()\n",
    "y_train_set = le.fit_transform(y_train_set)\n",
    "\n",
    "le = preprocessing.LabelEncoder()\n",
    "y_test_set = le.fit_transform(y_test_set)"
   ]
  },
  {
   "cell_type": "markdown",
   "metadata": {},
   "source": [
    "See the actual corresponding classes."
   ]
  },
  {
   "cell_type": "code",
   "execution_count": 87,
   "metadata": {},
   "outputs": [
    {
     "name": "stdout",
     "output_type": "stream",
     "text": [
      "{'LAYING': 0, 'SITTING': 1, 'STANDING': 2, 'WALKING': 3, 'WALKING_DOWNSTAIRS': 4, 'WALKING_UPSTAIRS': 5}\n"
     ]
    }
   ],
   "source": [
    "le_name_mapping = dict(zip(le.classes_, le.transform(le.classes_)))\n",
    "print(le_name_mapping)"
   ]
  },
  {
   "cell_type": "markdown",
   "metadata": {},
   "source": [
    "Each activity corresponds now to the numerical label"
   ]
  },
  {
   "cell_type": "code",
   "execution_count": 88,
   "metadata": {
    "scrolled": true
   },
   "outputs": [
    {
     "data": {
      "text/plain": [
       "array([2, 2, 2, ..., 5, 5, 5])"
      ]
     },
     "execution_count": 88,
     "metadata": {},
     "output_type": "execute_result"
    }
   ],
   "source": [
    "y_train_set"
   ]
  },
  {
   "cell_type": "code",
   "execution_count": 89,
   "metadata": {},
   "outputs": [
    {
     "data": {
      "text/plain": [
       "array([2, 2, 2, ..., 5, 5, 5])"
      ]
     },
     "execution_count": 89,
     "metadata": {},
     "output_type": "execute_result"
    }
   ],
   "source": [
    "y_test_set"
   ]
  },
  {
   "cell_type": "markdown",
   "metadata": {},
   "source": [
    "## GDA Multi-Classification OVA"
   ]
  },
  {
   "cell_type": "markdown",
   "metadata": {},
   "source": [
    "Compute the phi y parameter, now we are inserting the methods that estimate the parameters for the GDA analysis."
   ]
  },
  {
   "cell_type": "code",
   "execution_count": 90,
   "metadata": {},
   "outputs": [],
   "source": [
    "def compute_phi(y):\n",
    "    return np.mean(y)"
   ]
  },
  {
   "cell_type": "markdown",
   "metadata": {},
   "source": [
    "Compute the mean for the first vector and second vector"
   ]
  },
  {
   "cell_type": "code",
   "execution_count": 91,
   "metadata": {},
   "outputs": [],
   "source": [
    "def compute_mu0(x, y):\n",
    "    indicator_f = 1-y.reshape(y.shape[0], 1)\n",
    "\n",
    "    sum_x = 0\n",
    "    for i in range(0, x.shape[0]):\n",
    "        sum_x +=indicator_f[i] * x[i]\n",
    "    \n",
    "    return sum_x / np.sum(indicator_f)\n",
    "\n",
    "\n",
    "def compute_mu1(x, y):\n",
    "    indicator_f = y.reshape(y.shape[0], 1)\n",
    "    \n",
    "    sum_x = 0\n",
    "    for i in range(0, x.shape[0]):\n",
    "        sum_x += indicator_f[i] * x[i]\n",
    "    \n",
    "    return sum_x / np.sum(indicator_f)"
   ]
  },
  {
   "cell_type": "markdown",
   "metadata": {},
   "source": [
    "Compute sigma"
   ]
  },
  {
   "cell_type": "code",
   "execution_count": 92,
   "metadata": {},
   "outputs": [],
   "source": [
    "def compute_sigma(x, y, mu0, mu1):\n",
    "    my_sum = 0\n",
    "    for i in range(0, x.shape[0]):\n",
    "        if y[i]==0:\n",
    "            my_sum+=(x[i] - mu0).reshape(x.shape[1], 1) @ (x[i] - mu0).reshape(x.shape[1], 1).T\n",
    "        else:\n",
    "            my_sum+=(x[i] - mu1).reshape(x.shape[1], 1) @ (x[i] - mu1).reshape(x.shape[1], 1).T\n",
    "            \n",
    "    return (1 / x.shape[0]) * (my_sum)"
   ]
  },
  {
   "cell_type": "markdown",
   "metadata": {},
   "source": [
    "Write the probability of x give y."
   ]
  },
  {
   "cell_type": "code",
   "execution_count": 93,
   "metadata": {},
   "outputs": [],
   "source": [
    "# computing p(x|y) for the Bayes rule\n",
    "def p_x_given_y(x,mu,sigma):  \n",
    "    d = x.shape[0]\n",
    "    return (1 / (((2*np.pi)**(d/2)) * (np.linalg.det(sigma)**0.5))) * np.exp(-0.5*(x - mu) @ np.linalg.inv(sigma) @ (x - mu))\n",
    "\n",
    "# Function p(y) for applying the Bayes rule\n",
    "def p_y(y,phi):\n",
    "    if abs(y)==1: return phi\n",
    "    else: return 1 - phi"
   ]
  },
  {
   "cell_type": "code",
   "execution_count": 95,
   "metadata": {
    "scrolled": true
   },
   "outputs": [
    {
     "name": "stdout",
     "output_type": "stream",
     "text": [
      "Selected example = [ 0.28602671 -0.01316336 -0.11908252 -0.97541469 -0.9674579  -0.94495817\n",
      " -0.9867988  -0.96840133 -0.9458234  -0.89408755 -0.55457721 -0.80601325\n",
      "  0.76803131  0.68369799  0.79670578 -0.96909654 -0.99957952 -0.99964558\n",
      " -0.99772028 -0.9940063  -0.97363671 -0.95071985 -0.30243696 -0.34824317\n",
      " -0.40478535  0.5074924  -0.15649451  0.04067368  0.27299122  0.19756581\n",
      " -0.19455563  0.41141089 -0.3404662   0.07755506 -0.08402448  0.03530499\n",
      " -0.01008253 -0.1049829  -0.42913351  0.39917698  0.92740359 -0.28921515\n",
      "  0.15256831 -0.98905711 -0.9838872  -0.96478113 -0.98899958 -0.98315936\n",
      " -0.96520631  0.85617578 -0.30487004  0.15289519  0.9444614  -0.26215956\n",
      "  0.14901318  0.05767649  0.80557472 -0.85816306 -0.95723959 -0.98840345\n",
      " -0.98168751 -0.97121523 -0.72888396 -1.         -0.46504709 -0.50988188\n",
      "  0.52542419 -0.54024472  0.55444699 -0.74568691  0.73317067 -0.73739047\n",
      "  0.74869829 -0.8451508   0.86929012 -0.89306457  0.91311888  0.94523268\n",
      " -0.9114153  -0.73853452  0.07018069 -0.01787602 -0.00172063 -0.94920395\n",
      " -0.97269891 -0.9777267  -0.96931198 -0.97372273 -0.97861789 -0.91509297\n",
      " -0.98124288 -0.97767968  0.89847935  0.96773819  0.96609479 -0.97430719\n",
      " -0.99837377 -0.99936483 -0.99942623 -0.97974224 -0.97909583 -0.98526293\n",
      " -0.49723319 -0.65575119 -0.6144241   0.3979661   0.29974329  0.23919281\n",
      "  0.36635961  0.21215592 -0.18363333  0.50841803  0.23214979 -0.00283189\n",
      " -0.03809703 -0.08265699  0.1015615  -0.15319717 -0.27996556  0.49761213\n",
      " -0.00155246 -0.18729119  0.18070522 -0.92556647 -0.9295992  -0.96758097\n",
      " -0.91785483 -0.9500255  -0.96703476 -0.81033667 -0.86987891 -0.70321219\n",
      "  0.82303253  0.87078027  0.8440353  -0.88875689 -0.99691861 -0.99519449\n",
      " -0.99594793 -0.91132238 -0.96068474 -0.9692744  -0.01836119 -0.85159109\n",
      "  0.30504741 -0.2470263   0.3089064  -0.4820437   0.50874888 -0.25023745\n",
      "  0.19068988 -0.13627272  0.19949752 -0.01189863 -0.13845696  0.33537089\n",
      " -0.27653307 -0.00297279  0.54181281 -0.53396236 -0.13866849 -0.02580207\n",
      " -0.07141841 -0.96230415 -0.95628941 -0.98134077 -0.96861415 -0.97402395\n",
      " -0.9821632  -0.95925594 -0.95113178 -0.97956968  0.94972586  0.92982517\n",
      "  0.97707817 -0.97512556 -0.99913331 -0.99894037 -0.99971914 -0.97552795\n",
      " -0.98727568 -0.98252604 -0.29249393 -0.14390965 -0.38607798 -0.0529741\n",
      "  0.20970463 -0.11165626 -0.25754483 -0.19712748  0.25112852 -0.04835748\n",
      "  0.15821812  0.15886386 -0.23110857  0.31568162  0.14344499  0.28485043\n",
      " -0.17115207 -0.24811318 -0.96896136 -0.95390243 -0.9631648  -0.93760822\n",
      " -0.98594423 -0.96896136 -0.99891989 -0.97621997 -0.32934503  0.45848929\n",
      " -0.45648942  0.48812207 -0.34826197 -0.96896136 -0.95390243 -0.9631648\n",
      " -0.93760822 -0.98594423 -0.96896136 -0.99891989 -0.97621997 -0.32934503\n",
      "  0.45848929 -0.45648942  0.48812207 -0.34826197 -0.97371675 -0.94100781\n",
      " -0.95965336 -0.92883747 -0.97501109 -0.97371675 -0.99878975 -0.97808074\n",
      " -0.52770828 -0.31861692  0.18419955 -0.4600965   0.71335686 -0.89843314\n",
      " -0.91085833 -0.90111039 -0.90243173 -0.89375272 -0.89843314 -0.99418034\n",
      " -0.91018512  0.39460411  0.03012846 -0.0375239   0.08112477 -0.22204048\n",
      " -0.97339341 -0.94409    -0.96062105 -0.92928731 -0.97636665 -0.97339341\n",
      " -0.99908562 -0.98440919 -0.18620412  0.03223872  0.01025307 -0.65001828\n",
      "  0.52648944 -0.96090303 -0.96443332 -0.95667485 -0.98434996 -0.97017476\n",
      " -0.94186191 -0.97576424 -0.97025651 -0.94424865 -0.99305058 -0.97435703\n",
      " -0.94267037 -0.97244987 -0.98560555 -0.99954429 -0.9576235  -0.99959226\n",
      " -0.99914881 -0.99759946 -0.95503227 -0.97100249 -0.96622982 -0.60401282\n",
      " -0.7868864  -0.61029779 -0.80645161 -1.         -1.          0.35206637\n",
      "  0.17454676 -0.32067339 -0.91817642 -0.99876166 -0.32635354 -0.65708714\n",
      " -0.32768638 -0.62740522 -0.99985038 -0.99958185 -0.99871827 -0.99785674\n",
      " -0.99618566 -0.99772986 -0.99923826 -0.9998986  -0.99975978 -0.99826642\n",
      " -0.99677956 -0.9994596  -0.9996875  -0.99692971 -0.99914154 -0.99971528\n",
      " -0.99955092 -0.99864504 -0.99975136 -0.99958403 -0.99909598 -0.99941708\n",
      " -0.99921232 -0.99918197 -0.99969127 -0.99920247 -0.9992024  -0.99892292\n",
      " -0.9971858  -0.99925119 -0.99969618 -0.99973917 -0.99944873 -0.99931302\n",
      " -0.99910767 -0.99999943 -0.99754011 -0.99974512 -0.99942008 -0.99937662\n",
      " -0.99758464 -0.99966494 -0.94351902 -0.96916232 -0.97344886 -0.9616312\n",
      " -0.98002631 -0.9807873  -0.94581039 -0.97727429 -0.9771656  -0.97739496\n",
      " -0.98708657 -0.98420241 -0.97856685 -0.95346874 -0.99666442 -0.95549103\n",
      " -0.99837082 -0.99936709 -0.99942621 -0.92959842 -0.97323045 -0.97314572\n",
      " -0.60663326 -1.         -0.94221628 -0.16       -0.32       -0.4\n",
      "  0.47285157  0.16719768 -0.24311457 -0.92564669 -0.96585813 -0.72081204\n",
      " -0.99244457 -0.76472733 -0.94477245 -0.9999176  -0.99949503 -0.99864617\n",
      " -0.9977     -0.99590186 -0.9967749  -0.99882253 -0.99993425 -0.99964085\n",
      " -0.99792454 -0.99593387 -0.99883025 -0.9991966  -0.99558152 -0.99940718\n",
      " -0.99975774 -0.99955405 -0.99921997 -0.99954062 -0.99895241 -0.9984723\n",
      " -0.99900669 -0.99964754 -0.99931592 -0.99922621 -0.99854372 -0.99954931\n",
      " -0.99923397 -0.99822495 -0.99913438 -0.99970708 -0.99969529 -0.99944774\n",
      " -0.99928606 -0.99849709 -0.99998246 -0.99866241 -0.99973082 -0.99936986\n",
      " -0.99857259 -0.99924746 -0.99959354 -0.92251305 -0.92649565 -0.96822947\n",
      " -0.92705058 -0.93201069 -0.97014338 -0.94002686 -0.93385187 -0.96711895\n",
      " -0.90351102 -0.94876577 -0.97769398 -0.98895963 -0.96113628 -0.97518109\n",
      " -0.93129537 -0.99708995 -0.9973439  -0.99933071 -0.94769376 -0.94111044\n",
      " -0.97883559 -0.2382949  -0.09074787 -0.59450969 -1.         -0.93548387\n",
      " -0.93103448  0.01810862 -0.22726634 -0.15169839  0.55748317  0.3802534\n",
      " -0.39647764 -0.75907355 -0.15021964 -0.54836626 -0.99711739 -0.99927586\n",
      " -0.99908129 -0.99723597 -0.99859638 -0.99822263 -0.99820248 -0.99758952\n",
      " -0.99718123 -0.99813535 -0.99830444 -0.99793127 -0.99717971 -0.99751517\n",
      " -0.99684596 -0.99891614 -0.99956045 -0.99947087 -0.99929274 -0.99920953\n",
      " -0.99924091 -0.99971395 -0.99717219 -0.99942888 -0.99926884 -0.99934261\n",
      " -0.99716421 -0.99936695 -0.99938913 -0.99981406 -0.99986171 -0.99985985\n",
      " -0.999919   -0.99983843 -0.9991763  -0.99971777 -0.99935853 -0.99980295\n",
      " -0.99990289 -0.99941193 -0.99934481 -0.99987511 -0.95412665 -0.95974581\n",
      " -0.96067959 -0.96866664 -0.95686058 -0.95412665 -0.99847624 -0.98301141\n",
      " -0.75205571 -0.86206897  0.20346524 -0.20658816 -0.59942747 -0.94543723\n",
      " -0.934152   -0.92931478 -0.94997296 -0.96770522 -0.94543723 -0.99761001\n",
      " -0.95717755 -0.72364204 -1.         -0.49121253 -0.21540436 -0.66600409\n",
      " -0.92446082 -0.91677415 -0.91938282 -0.9179834  -0.99112142 -0.92446082\n",
      " -0.99572702 -0.93312729 -0.21886018 -1.         -0.03147392 -0.09065485\n",
      " -0.46180113 -0.95197735 -0.93821243 -0.9380079  -0.94992217 -0.98690245\n",
      " -0.95197735 -0.99827154 -0.95125489 -0.43105336 -1.         -0.40118872\n",
      " -0.12184509 -0.59494387 -0.08349497  0.01749957 -0.43437455  0.92059323\n",
      " -0.69809082  0.28134292 -0.08389801] \n",
      "\n"
     ]
    },
    {
     "name": "stderr",
     "output_type": "stream",
     "text": [
      "<ipython-input-93-96e5018dbb53>:4: RuntimeWarning: divide by zero encountered in double_scalars\n",
      "  return (1 / (((2*np.pi)**(d/2)) * (np.linalg.det(sigma)**0.5))) * np.exp(-0.5*(x - mu) @ np.linalg.inv(sigma) @ (x - mu))\n",
      "<ipython-input-93-96e5018dbb53>:4: RuntimeWarning: overflow encountered in exp\n",
      "  return (1 / (((2*np.pi)**(d/2)) * (np.linalg.det(sigma)**0.5))) * np.exp(-0.5*(x - mu) @ np.linalg.inv(sigma) @ (x - mu))\n"
     ]
    },
    {
     "name": "stdout",
     "output_type": "stream",
     "text": [
      "p(y=0|x) ~ inf\n",
      "p(y=1|x) ~ inf\n"
     ]
    },
    {
     "ename": "LinAlgError",
     "evalue": "Singular matrix",
     "output_type": "error",
     "traceback": [
      "\u001b[1;31m---------------------------------------------------------------------------\u001b[0m",
      "\u001b[1;31mLinAlgError\u001b[0m                               Traceback (most recent call last)",
      "\u001b[1;32m<ipython-input-95-d7b491962f50>\u001b[0m in \u001b[0;36m<module>\u001b[1;34m\u001b[0m\n\u001b[0;32m     17\u001b[0m \u001b[1;33m\u001b[0m\u001b[0m\n\u001b[0;32m     18\u001b[0m     \u001b[1;31m# y=0\u001b[0m\u001b[1;33m\u001b[0m\u001b[1;33m\u001b[0m\u001b[1;33m\u001b[0m\u001b[0m\n\u001b[1;32m---> 19\u001b[1;33m     \u001b[0mprint\u001b[0m\u001b[1;33m(\u001b[0m\u001b[1;34m'p(y='\u001b[0m \u001b[1;33m+\u001b[0m \u001b[0mstr\u001b[0m\u001b[1;33m(\u001b[0m\u001b[0mlabel\u001b[0m\u001b[1;33m)\u001b[0m \u001b[1;33m+\u001b[0m \u001b[1;34m'|x) ~'\u001b[0m\u001b[1;33m,\u001b[0m \u001b[0mp_x_given_y\u001b[0m\u001b[1;33m(\u001b[0m\u001b[0mx_test_set\u001b[0m\u001b[1;33m[\u001b[0m\u001b[0mselected_example\u001b[0m\u001b[1;33m,\u001b[0m\u001b[1;33m:\u001b[0m\u001b[1;33m]\u001b[0m\u001b[1;33m,\u001b[0m\u001b[0mmu0\u001b[0m\u001b[1;33m,\u001b[0m\u001b[0msigma\u001b[0m\u001b[1;33m)\u001b[0m\u001b[1;33m*\u001b[0m\u001b[0mp_y\u001b[0m\u001b[1;33m(\u001b[0m\u001b[1;36m0\u001b[0m\u001b[1;33m,\u001b[0m \u001b[0mphi\u001b[0m\u001b[1;33m)\u001b[0m\u001b[1;33m)\u001b[0m\u001b[1;33m\u001b[0m\u001b[1;33m\u001b[0m\u001b[0m\n\u001b[0m\u001b[0;32m     20\u001b[0m \u001b[1;33m\u001b[0m\u001b[0m\n\u001b[0;32m     21\u001b[0m     \u001b[1;31m# y=1\u001b[0m\u001b[1;33m\u001b[0m\u001b[1;33m\u001b[0m\u001b[1;33m\u001b[0m\u001b[0m\n",
      "\u001b[1;32m<ipython-input-93-96e5018dbb53>\u001b[0m in \u001b[0;36mp_x_given_y\u001b[1;34m(x, mu, sigma)\u001b[0m\n\u001b[0;32m      2\u001b[0m \u001b[1;32mdef\u001b[0m \u001b[0mp_x_given_y\u001b[0m\u001b[1;33m(\u001b[0m\u001b[0mx\u001b[0m\u001b[1;33m,\u001b[0m\u001b[0mmu\u001b[0m\u001b[1;33m,\u001b[0m\u001b[0msigma\u001b[0m\u001b[1;33m)\u001b[0m\u001b[1;33m:\u001b[0m\u001b[1;33m\u001b[0m\u001b[1;33m\u001b[0m\u001b[0m\n\u001b[0;32m      3\u001b[0m     \u001b[0md\u001b[0m \u001b[1;33m=\u001b[0m \u001b[0mx\u001b[0m\u001b[1;33m.\u001b[0m\u001b[0mshape\u001b[0m\u001b[1;33m[\u001b[0m\u001b[1;36m0\u001b[0m\u001b[1;33m]\u001b[0m\u001b[1;33m\u001b[0m\u001b[1;33m\u001b[0m\u001b[0m\n\u001b[1;32m----> 4\u001b[1;33m     \u001b[1;32mreturn\u001b[0m \u001b[1;33m(\u001b[0m\u001b[1;36m1\u001b[0m \u001b[1;33m/\u001b[0m \u001b[1;33m(\u001b[0m\u001b[1;33m(\u001b[0m\u001b[1;33m(\u001b[0m\u001b[1;36m2\u001b[0m\u001b[1;33m*\u001b[0m\u001b[0mnp\u001b[0m\u001b[1;33m.\u001b[0m\u001b[0mpi\u001b[0m\u001b[1;33m)\u001b[0m\u001b[1;33m**\u001b[0m\u001b[1;33m(\u001b[0m\u001b[0md\u001b[0m\u001b[1;33m/\u001b[0m\u001b[1;36m2\u001b[0m\u001b[1;33m)\u001b[0m\u001b[1;33m)\u001b[0m \u001b[1;33m*\u001b[0m \u001b[1;33m(\u001b[0m\u001b[0mnp\u001b[0m\u001b[1;33m.\u001b[0m\u001b[0mlinalg\u001b[0m\u001b[1;33m.\u001b[0m\u001b[0mdet\u001b[0m\u001b[1;33m(\u001b[0m\u001b[0msigma\u001b[0m\u001b[1;33m)\u001b[0m\u001b[1;33m**\u001b[0m\u001b[1;36m0.5\u001b[0m\u001b[1;33m)\u001b[0m\u001b[1;33m)\u001b[0m\u001b[1;33m)\u001b[0m \u001b[1;33m*\u001b[0m \u001b[0mnp\u001b[0m\u001b[1;33m.\u001b[0m\u001b[0mexp\u001b[0m\u001b[1;33m(\u001b[0m\u001b[1;33m-\u001b[0m\u001b[1;36m0.5\u001b[0m\u001b[1;33m*\u001b[0m\u001b[1;33m(\u001b[0m\u001b[0mx\u001b[0m \u001b[1;33m-\u001b[0m \u001b[0mmu\u001b[0m\u001b[1;33m)\u001b[0m \u001b[1;33m@\u001b[0m \u001b[0mnp\u001b[0m\u001b[1;33m.\u001b[0m\u001b[0mlinalg\u001b[0m\u001b[1;33m.\u001b[0m\u001b[0minv\u001b[0m\u001b[1;33m(\u001b[0m\u001b[0msigma\u001b[0m\u001b[1;33m)\u001b[0m \u001b[1;33m@\u001b[0m \u001b[1;33m(\u001b[0m\u001b[0mx\u001b[0m \u001b[1;33m-\u001b[0m \u001b[0mmu\u001b[0m\u001b[1;33m)\u001b[0m\u001b[1;33m)\u001b[0m\u001b[1;33m\u001b[0m\u001b[1;33m\u001b[0m\u001b[0m\n\u001b[0m\u001b[0;32m      5\u001b[0m \u001b[1;33m\u001b[0m\u001b[0m\n\u001b[0;32m      6\u001b[0m \u001b[1;31m# Function p(y) for applying the Bayes rule\u001b[0m\u001b[1;33m\u001b[0m\u001b[1;33m\u001b[0m\u001b[1;33m\u001b[0m\u001b[0m\n",
      "\u001b[1;32m<__array_function__ internals>\u001b[0m in \u001b[0;36minv\u001b[1;34m(*args, **kwargs)\u001b[0m\n",
      "\u001b[1;32mD:\\Anaconda\\lib\\site-packages\\numpy\\linalg\\linalg.py\u001b[0m in \u001b[0;36minv\u001b[1;34m(a)\u001b[0m\n\u001b[0;32m    545\u001b[0m     \u001b[0msignature\u001b[0m \u001b[1;33m=\u001b[0m \u001b[1;34m'D->D'\u001b[0m \u001b[1;32mif\u001b[0m \u001b[0misComplexType\u001b[0m\u001b[1;33m(\u001b[0m\u001b[0mt\u001b[0m\u001b[1;33m)\u001b[0m \u001b[1;32melse\u001b[0m \u001b[1;34m'd->d'\u001b[0m\u001b[1;33m\u001b[0m\u001b[1;33m\u001b[0m\u001b[0m\n\u001b[0;32m    546\u001b[0m     \u001b[0mextobj\u001b[0m \u001b[1;33m=\u001b[0m \u001b[0mget_linalg_error_extobj\u001b[0m\u001b[1;33m(\u001b[0m\u001b[0m_raise_linalgerror_singular\u001b[0m\u001b[1;33m)\u001b[0m\u001b[1;33m\u001b[0m\u001b[1;33m\u001b[0m\u001b[0m\n\u001b[1;32m--> 547\u001b[1;33m     \u001b[0mainv\u001b[0m \u001b[1;33m=\u001b[0m \u001b[0m_umath_linalg\u001b[0m\u001b[1;33m.\u001b[0m\u001b[0minv\u001b[0m\u001b[1;33m(\u001b[0m\u001b[0ma\u001b[0m\u001b[1;33m,\u001b[0m \u001b[0msignature\u001b[0m\u001b[1;33m=\u001b[0m\u001b[0msignature\u001b[0m\u001b[1;33m,\u001b[0m \u001b[0mextobj\u001b[0m\u001b[1;33m=\u001b[0m\u001b[0mextobj\u001b[0m\u001b[1;33m)\u001b[0m\u001b[1;33m\u001b[0m\u001b[1;33m\u001b[0m\u001b[0m\n\u001b[0m\u001b[0;32m    548\u001b[0m     \u001b[1;32mreturn\u001b[0m \u001b[0mwrap\u001b[0m\u001b[1;33m(\u001b[0m\u001b[0mainv\u001b[0m\u001b[1;33m.\u001b[0m\u001b[0mastype\u001b[0m\u001b[1;33m(\u001b[0m\u001b[0mresult_t\u001b[0m\u001b[1;33m,\u001b[0m \u001b[0mcopy\u001b[0m\u001b[1;33m=\u001b[0m\u001b[1;32mFalse\u001b[0m\u001b[1;33m)\u001b[0m\u001b[1;33m)\u001b[0m\u001b[1;33m\u001b[0m\u001b[1;33m\u001b[0m\u001b[0m\n\u001b[0;32m    549\u001b[0m \u001b[1;33m\u001b[0m\u001b[0m\n",
      "\u001b[1;32mD:\\Anaconda\\lib\\site-packages\\numpy\\linalg\\linalg.py\u001b[0m in \u001b[0;36m_raise_linalgerror_singular\u001b[1;34m(err, flag)\u001b[0m\n\u001b[0;32m     95\u001b[0m \u001b[1;33m\u001b[0m\u001b[0m\n\u001b[0;32m     96\u001b[0m \u001b[1;32mdef\u001b[0m \u001b[0m_raise_linalgerror_singular\u001b[0m\u001b[1;33m(\u001b[0m\u001b[0merr\u001b[0m\u001b[1;33m,\u001b[0m \u001b[0mflag\u001b[0m\u001b[1;33m)\u001b[0m\u001b[1;33m:\u001b[0m\u001b[1;33m\u001b[0m\u001b[1;33m\u001b[0m\u001b[0m\n\u001b[1;32m---> 97\u001b[1;33m     \u001b[1;32mraise\u001b[0m \u001b[0mLinAlgError\u001b[0m\u001b[1;33m(\u001b[0m\u001b[1;34m\"Singular matrix\"\u001b[0m\u001b[1;33m)\u001b[0m\u001b[1;33m\u001b[0m\u001b[1;33m\u001b[0m\u001b[0m\n\u001b[0m\u001b[0;32m     98\u001b[0m \u001b[1;33m\u001b[0m\u001b[0m\n\u001b[0;32m     99\u001b[0m \u001b[1;32mdef\u001b[0m \u001b[0m_raise_linalgerror_nonposdef\u001b[0m\u001b[1;33m(\u001b[0m\u001b[0merr\u001b[0m\u001b[1;33m,\u001b[0m \u001b[0mflag\u001b[0m\u001b[1;33m)\u001b[0m\u001b[1;33m:\u001b[0m\u001b[1;33m\u001b[0m\u001b[1;33m\u001b[0m\u001b[0m\n",
      "\u001b[1;31mLinAlgError\u001b[0m: Singular matrix"
     ]
    }
   ],
   "source": [
    "# Now estimate the GDA parameters and start for one vs all\n",
    "selected_example=1\n",
    "print('Selected example =', x_test_set[selected_example,:], \"\\n\")\n",
    "\n",
    "for label in [0, 1, 2, 3, 4, 5]:\n",
    "    y = y_train_set.copy()\n",
    "    y = np.where(y != label, -1, y) # the rest is set to -1\n",
    "    y = np.where(y == label, 0, y) # the value point that we want to compare with the rest is set to zero\n",
    "    y = abs(y)\n",
    "    \n",
    "    phi = compute_phi(y)\n",
    "    mu0 = compute_mu0(x_train_set, y)\n",
    "    mu1 = compute_mu1(x_train_set, y)\n",
    "    sigma = compute_sigma(x_train_set, y, mu0, mu1)\n",
    "\n",
    "    # compute p(y=l|x) ~ p(x|y=0)*p(y=0)  &  p(y=1|x) ~ p(x|y=1)*p(y=1) where l is one class\n",
    "\n",
    "    # y=0\n",
    "    print('p(y=' + str(label) + '|x) ~', p_x_given_y(x_test_set[selected_example,:],mu0,sigma)*p_y(0, phi))\n",
    "\n",
    "    # y=1\n",
    "    print('p(y=1|x) ~', p_x_given_y(x_test_set[selected_example,:],mu1,sigma)*p_y(1, phi))"
   ]
  },
  {
   "cell_type": "code",
   "execution_count": null,
   "metadata": {},
   "outputs": [],
   "source": []
  }
 ],
 "metadata": {
  "kernelspec": {
   "display_name": "Python 3",
   "language": "python",
   "name": "python3"
  },
  "language_info": {
   "codemirror_mode": {
    "name": "ipython",
    "version": 3
   },
   "file_extension": ".py",
   "mimetype": "text/x-python",
   "name": "python",
   "nbconvert_exporter": "python",
   "pygments_lexer": "ipython3",
   "version": "3.8.3"
  }
 },
 "nbformat": 4,
 "nbformat_minor": 4
}
